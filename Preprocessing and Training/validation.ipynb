{
 "cells": [
  {
   "cell_type": "markdown",
   "metadata": {},
   "source": [
    "# Step 3: Validation"
   ]
  },
  {
   "cell_type": "code",
   "execution_count": 1,
   "metadata": {},
   "outputs": [],
   "source": [
    "import numpy as np\n",
    "import pandas as pd\n",
    "import librosa\n",
    "import os\n",
    "import matplotlib.pyplot as plt\n",
    "%matplotlib inline\n",
    "from PIL import Image as im\n",
    "import tensorflow as tf"
   ]
  },
  {
   "cell_type": "code",
   "execution_count": 2,
   "metadata": {},
   "outputs": [],
   "source": [
    "target = ['redcro', 'comrav', 'houspa', 'norcar', 'barswa', 'houwre', 'sonspa',\n",
    "       'gbwwre1', 'eursta', 'spotow', 'cubthr', 'rewbla', 'mallar3', 'amerob',\n",
    "       'bewwre', 'carwre', 'swathr', 'rubpep1', 'bncfly', 'rucspa1']"
   ]
  },
  {
   "cell_type": "code",
   "execution_count": 42,
   "metadata": {},
   "outputs": [
    {
     "name": "stdout",
     "output_type": "stream",
     "text": [
      "['10534_SSW', '26709_SSW', '28933_SSW', '51010_SSW']\n"
     ]
    }
   ],
   "source": [
    "meta = pd.read_csv(\"../birdsdata/train_soundscape_labels.csv\")\n",
    "meta.head()\n",
    "target_file = []\n",
    "for line in meta.iterrows():\n",
    "    bird_types = line[1][4]\n",
    "    file = line[1][0].split(\"_\")\n",
    "    file = file[0] + \"_\" + file[1]\n",
    "    bird_types = bird_types.split(\" \")\n",
    "    for bird in bird_types:\n",
    "        if bird in target:\n",
    "            if file not in target_file:\n",
    "                target_file.append(file)\n",
    "print(target_file)\n",
    "\n"
   ]
  },
  {
   "cell_type": "markdown",
   "metadata": {},
   "source": [
    "## load models"
   ]
  },
  {
   "cell_type": "code",
   "execution_count": 5,
   "metadata": {},
   "outputs": [
    {
     "name": "stderr",
     "output_type": "stream",
     "text": [
      "2022-05-15 15:53:38.432503: I tensorflow/core/platform/cpu_feature_guard.cc:145] This TensorFlow binary is optimized with Intel(R) MKL-DNN to use the following CPU instructions in performance critical operations:  SSE4.1 SSE4.2\n",
      "To enable them in non-MKL-DNN operations, rebuild TensorFlow with the appropriate compiler flags.\n",
      "2022-05-15 15:53:38.434149: I tensorflow/core/common_runtime/process_util.cc:115] Creating new thread pool with default inter op setting: 8. Tune using inter_op_parallelism_threads for best performance.\n"
     ]
    }
   ],
   "source": [
    "mobile_model = tf.keras.models.load_model(\"mobile_v2/mobile_model\")"
   ]
  },
  {
   "cell_type": "markdown",
   "metadata": {},
   "source": [
    "## validation with Real long calls file"
   ]
  },
  {
   "cell_type": "code",
   "execution_count": 6,
   "metadata": {},
   "outputs": [],
   "source": [
    "FMIN = 500\n",
    "FMAX = 12500\n",
    "SPEC_HEIGHT = 64\n",
    "SPEC_WIDTH = 256\n",
    "NUM_MELS = SPEC_HEIGHT\n",
    "HOP_LENGTH = int(32000 * 5 / (SPEC_WIDTH - 1))"
   ]
  },
  {
   "cell_type": "code",
   "execution_count": 51,
   "metadata": {},
   "outputs": [],
   "source": [
    "sound_path = \"../birdsdata/train_soundscapes/\"\n",
    "result = {\"raw_id\":[], \"prediction\":[], \"score\":[]}\n",
    "\n",
    "for record in os.listdir(sound_path):\n",
    "    file_as_list = record.split(\"_\")\n",
    "    file = file_as_list[0] + \"_\" + file_as_list[1]\n",
    "    if file in target_file:\n",
    "        signal, reatio = librosa.load(sound_path+record, sr=32000)\n",
    "        frag_len = 480000\n",
    "        signals = []\n",
    "        for i in range(0, len(signal), frag_len):\n",
    "            sig_frag = signal[i:i+frag_len]\n",
    "            if len(sig_frag) < frag_len:\n",
    "                break\n",
    "            signals.append(sig_frag)\n",
    "        count = 0\n",
    "        for frag in signals:\n",
    "            count += 1\n",
    "            spec = librosa.feature.melspectrogram(y=frag, \n",
    "                                                sr=32000, \n",
    "                                                n_fft=1024,\n",
    "                                                hop_length=HOP_LENGTH, \n",
    "                                                n_mels=NUM_MELS,\n",
    "                                                fmin=FMIN,\n",
    "                                                fmax=FMAX)\n",
    "            spec = librosa.power_to_db(spec, ref=np.max)\n",
    "            spec -= spec.min()\n",
    "            spec /= spec.max()\n",
    "            spec = np.expand_dims(spec, -1)\n",
    "            spec = np.expand_dims(spec, 0)\n",
    "            predict = mobile_model.predict(spec)\n",
    "            idx = predict[0].argmax()\n",
    "            prediction = target[idx]\n",
    "            score = predict[0][idx]\n",
    "            if score < 0.5:\n",
    "                prediction = \"nocall\"\n",
    "                score = 1 - score\n",
    "            result[\"raw_id\"].append(file+\"_\"+str(5*count))\n",
    "            result[\"prediction\"].append(prediction)\n",
    "            result[\"score\"].append(score)\n",
    "            \n",
    "            \n",
    "result_pd = pd.DataFrame(result, columns=[\"raw_id\", \"prediction\", \"score\"])\n",
    "result_pd.head(30)\n",
    "result_pd.to_csv(\"result.csv\")"
   ]
  },
  {
   "cell_type": "code",
   "execution_count": 67,
   "metadata": {},
   "outputs": [
    {
     "name": "stdout",
     "output_type": "stream",
     "text": [
      "for the recording file: XC702290-家麻雀-Passer-domesticus is the type: houspa\n",
      "for the recording file: AnyConv is the type: barswa\n",
      "for the recording file: AnyConv is the type: rewbla\n",
      "for the recording file: XC720943 - 褐冠蝇霸鹟 - Myiarchus tyrannulus is the type: amerob\n",
      "for the recording file: XC720636-家麻雀-Passer-domesticus is the type: houspa\n",
      "for the recording file: XC718664-家麻雀-Passer-domesticus is the type: bncfly\n",
      "for the recording file: XC722456-家麻雀-Passer-domesticus is the type: houspa\n",
      "for the recording file: AnyConv is the type: nocall\n",
      "for the recording file: AnyConv is the type: rewbla\n",
      "for the recording file: AnyConv is the type: rewbla\n",
      "for the recording file: XC704329 - 褐冠蝇霸鹟 - Myiarchus tyrannulus is the type: bncfly\n",
      "for the recording file: XC722397-家麻雀-Passer-domesticus is the type: houspa\n"
     ]
    }
   ],
   "source": [
    "sound_path = \"../birdsdata/test_data/\"\n",
    "result = {\"raw_id\":[], \"prediction\":[], \"score\":[]}\n",
    "\n",
    "for record in os.listdir(sound_path):\n",
    "    if record.startswith(\".\"):\n",
    "        continue\n",
    "    file_as_list = record.split(\".\")\n",
    "    file = file_as_list[0]\n",
    "    signal, reatio = librosa.load(sound_path+record, sr=32000)\n",
    "    frag_len = 480000\n",
    "    signals = []\n",
    "    for i in range(0, len(signal), frag_len):\n",
    "        sig_frag = signal[i:i+frag_len]\n",
    "        if len(sig_frag) < frag_len:\n",
    "            break\n",
    "        signals.append(sig_frag)\n",
    "    count = 0\n",
    "    confidence = {}\n",
    "    for frag in signals:\n",
    "        count += 1\n",
    "        spec = librosa.feature.melspectrogram(y=frag, \n",
    "                                            sr=32000, \n",
    "                                            n_fft=1024,\n",
    "                                            hop_length=HOP_LENGTH, \n",
    "                                            n_mels=NUM_MELS,\n",
    "                                            fmin=FMIN,\n",
    "                                            fmax=FMAX)\n",
    "        spec = librosa.power_to_db(spec, ref=np.max)\n",
    "        spec -= spec.min()\n",
    "        spec /= spec.max()\n",
    "        spec = np.expand_dims(spec, -1)\n",
    "        spec = np.expand_dims(spec, 0)\n",
    "        predict = mobile_model.predict(spec)\n",
    "        idx = predict[0].argmax()\n",
    "        prediction = target[idx]\n",
    "        score = predict[0][idx]\n",
    "        if score < 0.48:\n",
    "            prediction = \"nocall\"\n",
    "            score = 1 - score\n",
    "        result[\"raw_id\"].append(file+\"_\"+str(15*count))\n",
    "        result[\"prediction\"].append(prediction)\n",
    "        result[\"score\"].append(score)\n",
    "        if prediction in confidence.keys():\n",
    "            confidence[prediction] += score\n",
    "        else:\n",
    "            confidence[prediction] = score\n",
    "    highest_conf = 0\n",
    "    most_conf = \"nocall\"\n",
    "    for predicts, conf in confidence.items():\n",
    "        if conf > highest_conf:\n",
    "            most_conf = predicts\n",
    "            highest_conf = conf\n",
    "    print(\"for the recording file: \" + file + \" is the type: \" + most_conf)\n",
    "result_pd = pd.DataFrame(result, columns=[\"raw_id\", \"prediction\", \"score\"])\n",
    "result_pd.head(30)\n",
    "result_pd.to_csv(\"result_online.csv\")"
   ]
  }
 ],
 "metadata": {
  "interpreter": {
   "hash": "07bb40158895eba2a98785ccd99025bae81badf9fd6dc3ce19cabd109322bc24"
  },
  "kernelspec": {
   "display_name": "Python 3.7.13 ('tensor')",
   "language": "python",
   "name": "python3"
  },
  "language_info": {
   "codemirror_mode": {
    "name": "ipython",
    "version": 3
   },
   "file_extension": ".py",
   "mimetype": "text/x-python",
   "name": "python",
   "nbconvert_exporter": "python",
   "pygments_lexer": "ipython3",
   "version": "3.7.13"
  },
  "orig_nbformat": 4
 },
 "nbformat": 4,
 "nbformat_minor": 2
}
